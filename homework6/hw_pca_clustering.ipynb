{
 "cells": [
  {
   "cell_type": "code",
   "execution_count": 1,
   "metadata": {},
   "outputs": [],
   "source": [
    "import pandas as pd\n",
    "import numpy as np\n",
    "import matplotlib.pyplot as plt\n",
    "import seaborn as sns\n",
    "\n",
    "from sklearn.ensemble import RandomForestRegressor\n",
    "from sklearn.decomposition import PCA\n",
    "from sklearn.preprocessing import StandardScaler\n",
    "from sklearn.manifold import TSNE\n",
    "\n",
    "sns.set()"
   ]
  },
  {
   "cell_type": "markdown",
   "metadata": {},
   "source": [
    "Ссылка на форму с ответами - https://forms.gle/wwNeBmZbkUxfiPvT7"
   ]
  },
  {
   "cell_type": "markdown",
   "metadata": {},
   "source": [
    "## Датасет для первого задания\n",
    "\n",
    "В этом блоке вам предстоит исследовать PCA с практической стороны, датасет - MNIST (handwritten digits, ужатые до размера 8x8)"
   ]
  },
  {
   "cell_type": "code",
   "execution_count": 103,
   "metadata": {},
   "outputs": [],
   "source": [
    "from sklearn.datasets import load_digits\n",
    "\n",
    "dataset = load_digits()\n",
    "X = dataset.data\n",
    "y = dataset.target\n",
    "\n",
    "X3 = X\n",
    "y3 = y"
   ]
  },
  {
   "cell_type": "markdown",
   "metadata": {},
   "source": [
    "Отрисуем несколько примеров для наглядности"
   ]
  },
  {
   "cell_type": "code",
   "execution_count": 3,
   "metadata": {},
   "outputs": [
    {
     "data": {
      "image/png": "[encoded data removed]",
      "text/plain": [
       "<Figure size 1152x432 with 10 Axes>"
      ]
     },
     "metadata": {
      "needs_background": "light"
     },
     "output_type": "display_data"
    }
   ],
   "source": [
    "plt.figure(figsize=(16,6))\n",
    "\n",
    "for i in range(10):\n",
    "    plt.subplot(2, 5, i + 1)\n",
    "    plt.imshow(X[i,:].reshape([8,8]))"
   ]
  },
  {
   "cell_type": "markdown",
   "metadata": {},
   "source": [
    "## Задание 1\n",
    "\n",
    "Обучить PCA и изучить зависимость кол-ва главных компонент от дисперсии, которую они сохраняют при проекции."
   ]
  },
  {
   "cell_type": "code",
   "execution_count": 4,
   "metadata": {},
   "outputs": [
    {
     "data": {
      "text/plain": [
       "PCA(copy=True, iterated_power='auto', n_components=None, random_state=None,\n",
       "    svd_solver='auto', tol=0.0, whiten=False)"
      ]
     },
     "execution_count": 4,
     "metadata": {},
     "output_type": "execute_result"
    }
   ],
   "source": [
    "pca = PCA()\n",
    "\n",
    "pca.fit(X)"
   ]
  },
  {
   "cell_type": "markdown",
   "metadata": {},
   "source": [
    "**Вопрос 1:** Какое минимальное количество главных компонент необходимо для сохранения суммарной explained_variance_ratio на уровне >= 0.95"
   ]
  },
  {
   "cell_type": "code",
   "execution_count": 5,
   "metadata": {},
   "outputs": [
    {
     "name": "stdout",
     "output_type": "stream",
     "text": [
      "Минимальное количество главных компонент необходимо для сохранения суммарной explained_variance_ratio на уровне >= 0.95\n"
     ]
    },
    {
     "data": {
      "text/plain": [
       "29"
      ]
     },
     "execution_count": 5,
     "metadata": {},
     "output_type": "execute_result"
    }
   ],
   "source": [
    "for i in range(100):\n",
    "    pca = PCA(n_components=i)\n",
    "    pca.fit(X)\n",
    "    if pca.explained_variance_ratio_.sum() >= 0.95:\n",
    "        break\n",
    "\n",
    "print('Минимальное количество главных компонент необходимо для сохранения суммарной explained_variance_ratio на уровне >= 0.95')\n",
    "i"
   ]
  },
  {
   "cell_type": "markdown",
   "metadata": {},
   "source": [
    "Получив необходимое значение главных компонент, сделайте следующее:\n",
    "\n",
    "1. Обучите PCA с кол-вом компонент, полученным в вопросе 1\n",
    "2. Трансформируйте исходный датасет\n",
    "3. Возьмите все объекты, на которых нарисован 0\n",
    "\n",
    "**Вопрос 2:** чему равно среднее значение признаков из п.3 (усреднение делать по всему, округлить до 4 знака после запятой)?\n",
    "\n",
    "При инициализации PCA используйте random_state=42 для воспроизводимости результатов"
   ]
  },
  {
   "cell_type": "code",
   "execution_count": 6,
   "metadata": {},
   "outputs": [
    {
     "data": {
      "text/plain": [
       "0.5707"
      ]
     },
     "execution_count": 6,
     "metadata": {},
     "output_type": "execute_result"
    }
   ],
   "source": [
    "pca = PCA(n_components=29, random_state=42)\n",
    "pca.fit(X)\n",
    "X = pca.transform(X)  # X = pca.fit_transform(X)\n",
    "\n",
    "indexes = []  # индексы нулей\n",
    "\n",
    "for i in range(y.shape[0]):\n",
    "    if y[i] == 0:\n",
    "        indexes.append(i)\n",
    "        \n",
    "X = X[indexes]\n",
    "round(X.mean(), 4)"
   ]
  },
  {
   "cell_type": "markdown",
   "metadata": {},
   "source": [
    "## Задание 2\n",
    "\n",
    "На том же датасете, что и выше, применить K-means (random_state=42) и ответить на ряд вопросов"
   ]
  },
  {
   "cell_type": "code",
   "execution_count": 79,
   "metadata": {},
   "outputs": [],
   "source": [
    "from sklearn.cluster import KMeans\n",
    "\n",
    "scaler = StandardScaler()\n",
    "X_std = scaler.fit_transform(X)"
   ]
  },
  {
   "cell_type": "markdown",
   "metadata": {},
   "source": [
    "Кластеризуйте нормализованный датасет (X_std) при помощи K-means"
   ]
  },
  {
   "cell_type": "code",
   "execution_count": 80,
   "metadata": {},
   "outputs": [
    {
     "data": {
      "text/plain": [
       "KMeans(algorithm='auto', copy_x=True, init='k-means++', max_iter=300,\n",
       "       n_clusters=10, n_init=10, n_jobs=None, precompute_distances='auto',\n",
       "       random_state=42, tol=0.0001, verbose=0)"
      ]
     },
     "execution_count": 80,
     "metadata": {},
     "output_type": "execute_result"
    }
   ],
   "source": [
    "kmeans = KMeans(n_clusters=10, random_state=42)\n",
    "kmeans.fit(X_std)"
   ]
  },
  {
   "cell_type": "markdown",
   "metadata": {},
   "source": [
    "**Вопрос 3**: какой преобладающий номер кластера (начало с 0) у рукописных единиц?"
   ]
  },
  {
   "cell_type": "code",
   "execution_count": 86,
   "metadata": {},
   "outputs": [
    {
     "data": {
      "text/plain": [
       "Counter({3: 96, 9: 58, 6: 27, 4: 1})"
      ]
     },
     "execution_count": 86,
     "metadata": {},
     "output_type": "execute_result"
    }
   ],
   "source": [
    "import collections\n",
    "\n",
    "one_indexes = []  # индексы единиц\n",
    "\n",
    "for i in range(y.shape[0]):\n",
    "    if y[i] == 1:\n",
    "        one_indexes.append(i)\n",
    "        \n",
    "f = kmeans.labels_[one_indexes]\n",
    "collections.Counter(f)"
   ]
  },
  {
   "cell_type": "markdown",
   "metadata": {},
   "source": [
    "Также, как и на занятии, спроецируйте полученный результат на плоскость при помощи TSNE (random_state=42)"
   ]
  },
  {
   "cell_type": "code",
   "execution_count": 107,
   "metadata": {},
   "outputs": [
    {
     "data": {
      "text/plain": [
       "<matplotlib.collections.PathCollection at 0x23f9df005f8>"
      ]
     },
     "execution_count": 107,
     "metadata": {},
     "output_type": "execute_result"
    },
    {
     "data": {
      "image/png": "[encoded data removed]",
      "text/plain": [
       "<Figure size 1080x576 with 1 Axes>"
      ]
     },
     "metadata": {
      "needs_background": "light"
     },
     "output_type": "display_data"
    }
   ],
   "source": [
    "tsne = TSNE(random_state=42)\n",
    "\n",
    "X_std_emb = tsne.fit_transform(X_std,y=y)\n",
    "\n",
    "zero_indexes = []  # индексы нулей\n",
    "for i in range(y.shape[0]):\n",
    "    if y[i] == 0:\n",
    "        zero_indexes.append(i)\n",
    "\n",
    "X4 = X_std_emb[zero_indexes].reshape((178,2))[:, 0]\n",
    "y4 = X_std_emb[zero_indexes].reshape((178,2))[:, 1]\n",
    "\n",
    "plt.figure(figsize=(15, 8))\n",
    "plt.scatter(x=X4, y=y4)"
   ]
  },
  {
   "cell_type": "markdown",
   "metadata": {},
   "source": [
    "**Вопрос 4**: в каком диапазоне по оси X лежат объекты, соответствующие написанным от руки нулям (ответы округлить до 2 знака после запятой?"
   ]
  },
  {
   "cell_type": "code",
   "execution_count": 109,
   "metadata": {},
   "outputs": [
    {
     "data": {
      "text/plain": [
       "(59.69702, 77.31494)"
      ]
     },
     "execution_count": 109,
     "metadata": {},
     "output_type": "execute_result"
    }
   ],
   "source": [
    "np.min(X4), np.max(X4)"
   ]
  }
 ],
 "metadata": {
  "kernelspec": {
   "display_name": "Python 3",
   "language": "python",
   "name": "python3"
  },
  "language_info": {
   "codemirror_mode": {
    "name": "ipython",
    "version": 3
   },
   "file_extension": ".py",
   "mimetype": "text/x-python",
   "name": "python",
   "nbconvert_exporter": "python",
   "pygments_lexer": "ipython3",
   "version": "3.7.3"
  }
 },
 "nbformat": 4,
 "nbformat_minor": 2
}
