{
 "cells": [
  {
   "cell_type": "code",
   "execution_count": null,
   "metadata": {
    "_cell_guid": "b1076dfc-b9ad-4769-8c92-a6c4dae69d19",
    "_uuid": "8f2839f25d086af736a60e9eeb907d3b93b6e0e5"
   },
   "outputs": [],
   "source": [
    "# This Python 3 environment comes with many helpful analytics libraries installed\n",
    "# It is defined by the kaggle/python docker image: https://github.com/kaggle/docker-python\n",
    "# For example, here's several helpful packages to load in \n",
    "\n",
    "import numpy as np # linear algebra\n",
    "import pandas as pd # data processing, CSV file I/O (e.g. pd.read_csv)\n",
    "import math\n",
    "import matplotlib.pyplot as plt\n",
    "import sys # for epsilon\n",
    "\n",
    "# Input data files are available in the \"../input/\" directory.\n",
    "# For example, running this (by clicking run or pressing Shift+Enter) will list all files under the input directory\n",
    "\n",
    "import os\n",
    "for dirname, _, filenames in os.walk('/kaggle/input'):\n",
    "    for filename in filenames:\n",
    "        print(os.path.join(dirname, filename))\n",
    "\n",
    "# Any results you write to the current directory are saved as output."
   ]
  },
  {
   "cell_type": "markdown",
   "metadata": {},
   "source": [
    "Считываем данные для обучения:"
   ]
  },
  {
   "cell_type": "code",
   "execution_count": null,
   "metadata": {
    "_cell_guid": "79c7e3d0-c299-4dcb-8224-4455121ee9b0",
    "_uuid": "d629ff2d2480ee46fbb7e2d37f6b5fab8052498a"
   },
   "outputs": [],
   "source": [
    "data = pd.read_csv(\"../input/mlcourse-2019-mai-autumn/train.csv\")"
   ]
  },
  {
   "cell_type": "markdown",
   "metadata": {},
   "source": [
    "Используем для обучения только переменные типа 'int64', но столбец 'Id' нам не подходит"
   ]
  },
  {
   "cell_type": "code",
   "execution_count": null,
   "metadata": {},
   "outputs": [],
   "source": [
    "y = data['SalePrice'].values\n",
    "\n",
    "del data['Id']\n",
    "del data['SalePrice']\n",
    "data.select_dtypes(include=['int64']).columns # признаки, по которым обучаем"
   ]
  },
  {
   "cell_type": "markdown",
   "metadata": {},
   "source": [
    "Считываем данные для предсказания:"
   ]
  },
  {
   "cell_type": "code",
   "execution_count": null,
   "metadata": {},
   "outputs": [],
   "source": [
    "need_data = pd.read_csv(\"../input/mlcourse-2019-mai-autumn/test.csv\")\n",
    "need_data.select_dtypes(include=['int64']).columns\n",
    "del need_data['Id']\n",
    "need_data['SalePrice'] = 0\n",
    "\n",
    "need_X = need_data[need_data.select_dtypes(include=['int64']).columns].values\n",
    "need_X_scaled = (need_X - need_X.mean())/need_X.std() # нормировка"
   ]
  },
  {
   "cell_type": "code",
   "execution_count": null,
   "metadata": {},
   "outputs": [],
   "source": [
    "X = data[data.select_dtypes(include=['int64']).columns].values # Все признаки\n",
    "\n",
    "ones_ = np.ones((X.shape[0], 1)) # единичный столбец (782, 1)\n",
    "X_scaled = (X - X.mean())/X.std() # нормировка\n",
    "X_scaled = np.hstack((X_scaled, ones_))"
   ]
  },
  {
   "cell_type": "markdown",
   "metadata": {},
   "source": [
    "Градиентный спуск с регулязатором:"
   ]
  },
  {
   "cell_type": "code",
   "execution_count": null,
   "metadata": {},
   "outputs": [],
   "source": [
    "w = np.array(np.zeros((X_scaled.shape[1]))) # начальный массив весов для каждого признака (w_0...w_n)\n",
    "\n",
    "eta = 0.01  #шаг обновления весов\n",
    "epochs = 1000 # количество итераций\n",
    "n = float(len(X_scaled))\n",
    "l = 0.001\n",
    "\n",
    "for i in range(epochs):\n",
    "    w = w - eta * ((X_scaled.T @ (X_scaled@w-y) / n) + l*np.sign(w)) # L-1 регуляризация"
   ]
  },
  {
   "cell_type": "code",
   "execution_count": null,
   "metadata": {},
   "outputs": [],
   "source": [
    "sample=pd.read_csv(\"../input/mlcourse-2019-mai-autumn/sample.csv\")\n",
    "\n",
    "sample['SalePrice'] = need_X_scaled @ w\n",
    "sample.to_csv('res.csv', index = False)"
   ]
  }
 ],
 "metadata": {
  "kernelspec": {
   "display_name": "Python 3",
   "language": "python",
   "name": "python3"
  },
  "language_info": {
   "codemirror_mode": {
    "name": "ipython",
    "version": 3
   },
   "file_extension": ".py",
   "mimetype": "text/x-python",
   "name": "python",
   "nbconvert_exporter": "python",
   "pygments_lexer": "ipython3",
   "version": "3.7.3"
  }
 },
 "nbformat": 4,
 "nbformat_minor": 1
}
